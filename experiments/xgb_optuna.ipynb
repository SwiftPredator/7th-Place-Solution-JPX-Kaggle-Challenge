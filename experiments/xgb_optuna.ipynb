{
 "cells": [
  {
   "cell_type": "code",
   "execution_count": null,
   "metadata": {},
   "outputs": [],
   "source": [
    "# imports\n",
    "%matplotlib inline\n",
    "import pandas as pd\n",
    "from lightgbm import LGBMRegressor\n",
    "import xgboost as xgb\n",
    "import optuna.integration.lightgbm as lgb\n",
    "import optuna\n",
    "import matplotlib.pyplot as plt\n",
    "import seaborn as sns\n",
    "import numpy as np\n",
    "from sklearn.metrics import mean_squared_error\n",
    "\n",
    "sns.set_context(\"notebook\")"
   ]
  },
  {
   "cell_type": "code",
   "execution_count": null,
   "metadata": {},
   "outputs": [],
   "source": [
    "# load stock price train and test dataset\n",
    "stock_list = pd.read_csv(\"../input/jpx-tokyo-stock-exchange-prediction/stock_list.csv\")\n",
    "prices = pd.read_csv(\"../input/jpx-tokyo-stock-exchange-prediction/train_files/stock_prices.csv\")\n",
    "financials = pd.read_csv(\"../input/jpx-tokyo-stock-exchange-prediction/train_files/financials.csv\")\n",
    "options = pd.read_csv(\"../input/jpx-tokyo-stock-exchange-prediction/train_files/options.csv\")\n",
    "sprices = pd.read_csv(\"../input/jpx-tokyo-stock-exchange-prediction/train_files/secondary_stock_prices.csv\")\n",
    "supplemental_prices = pd.read_csv(\"../input/jpx-tokyo-stock-exchange-prediction/supplemental_files/stock_prices.csv\")\n",
    "supplemental_sprices = pd.read_csv(\"../input/jpx-tokyo-stock-exchange-prediction/supplemental_files/secondary_stock_prices.csv\")\n",
    "testprices = pd.read_csv(\"../input/jpx-tokyo-stock-exchange-prediction/example_test_files/sample_submission.csv\")\n",
    "teststockprices = pd.read_csv(\"../input/jpx-tokyo-stock-exchange-prediction/example_test_files/stock_prices.csv\")\n",
    "\n",
    "prices = prices.append(sprices,ignore_index=True)\n",
    "prices = prices.append(supplemental_prices,ignore_index=True)\n",
    "prices = prices.append(supplemental_sprices,ignore_index=True)\n",
    "prices = prices.drop(['RowId'],axis=1)\n",
    "prices = prices.dropna()\n",
    "prices['ExpectedDividend'] = prices['ExpectedDividend'].fillna(0)\n",
    "prices['SupervisionFlag'] = prices['SupervisionFlag'].map({True: 1, False: 0})\n",
    "\n",
    "# df_test = df_test.drop(['RowId','ExpectedDividend'],axis=1)\n",
    "# df_test = df_test.dropna()\n",
    "# df_test['ExpectedDividend'] = df_test['ExpectedDividend'].fillna(0)\n",
    "# df_test['SupervisionFlag'] = df_test['SupervisionFlag'].map({True: 1, False: 0})"
   ]
  },
  {
   "cell_type": "code",
   "execution_count": null,
   "metadata": {},
   "outputs": [],
   "source": [
    "prices[\"Date\"] =  pd.to_datetime(prices['Date'], infer_datetime_format=True)\n",
    "xprices=prices[prices['Date']<'2022-04-01']\n",
    "yprices=prices[prices['Date']>='2022-04-01']"
   ]
  },
  {
   "cell_type": "code",
   "execution_count": null,
   "metadata": {},
   "outputs": [],
   "source": [
    "def featuring(train):\n",
    "    dfa=pd.DataFrame()\n",
    "    for code in train['SecuritiesCode'].unique():\n",
    "        df=train[train['SecuritiesCode']==code]\n",
    "\n",
    "        df=df.sort_values(by=['Date'], ascending=True)\n",
    "        df['RA_20'] = df.Close.rolling(5, min_periods=1).mean()\n",
    "        df['RA_40'] = df.Close.rolling(10, min_periods=1).mean()\n",
    "        df['RA_60'] = df.Close.rolling(15, min_periods=1).mean()\n",
    "        df['RA_80'] = df.Close.rolling(20, min_periods=1).mean()\n",
    "        df['RA_100'] = df.Close.rolling(30, min_periods=1).mean()\n",
    "        dfa=pd.concat([dfa, df])\n",
    "    dfa['year']=pd.to_numeric(dfa['Date'].dt.year).astype(float)\n",
    "    dfa['month']=pd.to_numeric(dfa['Date'].dt.month).astype(float)\n",
    "    dfa['day']=pd.to_numeric(dfa['Date'].dt.day).astype(float)\n",
    "    dfa['delta']=pd.to_numeric(dfa['High']-dfa['Low']).astype(float)\n",
    "    dfa['change']=pd.to_numeric(dfa['Close']-dfa['Open']).astype(float)\n",
    "    dfa=dfa[['Date','SecuritiesCode','delta','change','RA_20','RA_40','RA_60','RA_80','RA_100','year','month','day']]\n",
    "    train=train.merge(dfa,how='left',on=['Date','SecuritiesCode'],suffixes=('', 'b')).set_axis(train.index)\n",
    "    train=train.drop(['Date'],axis=1)\n",
    "\n",
    "    return train"
   ]
  },
  {
   "cell_type": "code",
   "execution_count": null,
   "metadata": {},
   "outputs": [],
   "source": [
    "y_train = xprices.copy().pop(\"Target\")\n",
    "y_val = yprices.copy().pop(\"Target\")\n",
    "X_train = featuring(xprices)\n",
    "X_val = featuring(yprices)"
   ]
  },
  {
   "cell_type": "code",
   "execution_count": null,
   "metadata": {},
   "outputs": [],
   "source": [
    "X_train.tail()"
   ]
  },
  {
   "cell_type": "code",
   "execution_count": null,
   "metadata": {},
   "outputs": [],
   "source": [
    "# https://xgboost.readthedocs.io/en/stable/parameter.html\n",
    "def objective(trial, X_train=X_train, y_train=y_train, X_val=X_val, y_val=y_val):\n",
    "    param = {\n",
    "        'tree_method':'gpu_hist',  # this parameter means using the GPU when training our model to speedup the training process\n",
    "        'lambda': trial.suggest_loguniform('lambda', 1e-3, 10.0),\n",
    "        'alpha': trial.suggest_loguniform('alpha', 1e-3, 10.0),\n",
    "        'colsample_bytree': trial.suggest_categorical('colsample_bytree', [0.3,0.4,0.5,0.6,0.7,0.8,0.9, 1.0]),\n",
    "        'subsample': trial.suggest_categorical('subsample', [0.4,0.5,0.6,0.7,0.8,0.9,1.0]),\n",
    "        'learning_rate': trial.suggest_categorical('learning_rate', [0.008,0.01,0.012,0.014,0.016,0.018, 0.02]),\n",
    "        'n_estimators': trial.suggest_categorical('n_estimators', [100, 400, 700, 1000]),\n",
    "        'max_depth': trial.suggest_categorical('max_depth', [5,7,9,11,13,15,17]),\n",
    "        'random_state': trial.suggest_categorical('random_state', [2020]),\n",
    "        'min_child_weight': trial.suggest_int('min_child_weight', [1, 300]),\n",
    "        'max_bin': trial.suggest_categorical('max_bin', [128,256,512]),\n",
    "        'grow_policy': trial.suggest_categorical('grow_policy', ['depthwise', 'lossguide']),\n",
    "        'gamma': trial.suggest_categorical('gamma', [0, 1e-4, 1e-3])\n",
    "    }\n",
    "\n",
    "    model = xgb.XGBRegressor(**param)\n",
    "    model.fit(X_train, y_train, eval_set=[(X_val, y_val)],early_stopping_rounds=100, verbose=False)\n",
    "    preds = model.predict(X_val)\n",
    "    rmse = mean_squared_error(y_val, preds,squared=False)\n",
    "\n",
    "    return rmse"
   ]
  },
  {
   "cell_type": "code",
   "execution_count": null,
   "metadata": {},
   "outputs": [],
   "source": [
    "study = optuna.create_study(direction='minimize')\n",
    "study.optimize(objective, n_trials=30)\n",
    "\n",
    "best_trial = study.best_trial.params\n",
    "model = xgb.XGBRegressor(**best_trial)\n",
    "model.fit(X_train, y_train, early_stopping_rounds=100, eval_set=[(X_val, y_val)], verbose=1)"
   ]
  },
  {
   "cell_type": "code",
   "execution_count": null,
   "metadata": {},
   "outputs": [],
   "source": [
    "env = jpx_tokyo_market_prediction.make_env()\n",
    "iter_test = env.iter_test()"
   ]
  },
  {
   "cell_type": "code",
   "execution_count": null,
   "metadata": {},
   "outputs": [],
   "source": [
    "# test loop ala submission\n",
    "for (df_test, options, financials, trades, secondary_prices, df_pred) in iter_test:\n",
    "    df_test=df_test.drop(['RowId'],axis=1)\n",
    "    df_test['ExpectedDividend'] = df_test['ExpectedDividend'].fillna(0)\n",
    "    df_test['SupervisionFlag'] = df_test['SupervisionFlag'].map({True: 1, False: 0})\n",
    "    x_test = featuring(df_test)\n",
    "    y_pred = model.predict(x_test)\n",
    "    df_pred['Target'] = y_pred\n",
    "    df_pred = df_pred.sort_values(by = \"Target\", ascending = False)\n",
    "    df_pred['Rank'] = np.arange(len(df_pred.index))\n",
    "    df_pred = df_pred.sort_values(by = \"SecuritiesCode\", ascending = True)\n",
    "    df_pred.drop([\"Target\"], axis = 1)\n",
    "    submission = df_pred[[\"Date\", \"SecuritiesCode\", \"Rank\"]]    \n",
    "    env.predict(submission)"
   ]
  }
 ],
 "metadata": {
  "interpreter": {
   "hash": "2e3f3cdd35c3a7715b12ba7216f01ca19cef3c0129565fb6d4d5d3b044101361"
  },
  "kernelspec": {
   "display_name": "Python 3.9.12 ('jpx')",
   "language": "python",
   "name": "python3"
  },
  "language_info": {
   "codemirror_mode": {
    "name": "ipython",
    "version": 3
   },
   "file_extension": ".py",
   "mimetype": "text/x-python",
   "name": "python",
   "nbconvert_exporter": "python",
   "pygments_lexer": "ipython3",
   "version": "3.9.12"
  },
  "orig_nbformat": 4
 },
 "nbformat": 4,
 "nbformat_minor": 2
}
