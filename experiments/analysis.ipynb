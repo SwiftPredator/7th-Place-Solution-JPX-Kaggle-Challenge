{
 "cells": [
  {
   "cell_type": "code",
   "execution_count": null,
   "metadata": {},
   "outputs": [],
   "source": [
    "# get singel example stock\n",
    "# Code = 9101\n",
    "# STOCK = df_train[df_train.SecuritiesCode==Code].set_index(\"Date\")\n",
    "# TEST = df_test[df_test.SecuritiesCode==Code].set_index(\"Date\")\n",
    "# # plot test and train timeframes\n",
    "# plt.figure(figsize=(15,7))\n",
    "# top = plt.subplot2grid((4,4), (0, 0), rowspan=3, colspan=4)\n",
    "# bottom = plt.subplot2grid((4,4), (3,0), rowspan=1, colspan=4)\n",
    "# top.plot(STOCK.index, STOCK.Close, label=\"Train set\")\n",
    "# top.plot(TEST.index,TEST.Close, color=\"magenta\", label=\"Test set\")\n",
    "# bottom.bar(STOCK.index, STOCK.Volume)\n",
    "# bottom.bar(TEST.index, TEST.Volume, color=\"magenta\")\n",
    "# top.legend(bbox_to_anchor=(1.01, 1., 0.11, 0.), loc='upper right', borderaxespad=0.)\n",
    "\n",
    "# # set the labels\n",
    "# top.axes.xaxis.set_ticklabels([])\n",
    "# top.axvline(TEST.index[0], color='red', linestyle='--')\n",
    "# bottom.axvline(TEST.index[0], color='red', linestyle='--')\n",
    "# top.set_title(Code)\n",
    "# top.grid(True)\n",
    "# top.set_ylabel('Closing Price')\n",
    "# bottom.set_ylabel('Volume')\n",
    "# bottom.grid(True);"
   ]
  }
 ],
 "metadata": {
  "language_info": {
   "name": "python"
  },
  "orig_nbformat": 4
 },
 "nbformat": 4,
 "nbformat_minor": 2
}
